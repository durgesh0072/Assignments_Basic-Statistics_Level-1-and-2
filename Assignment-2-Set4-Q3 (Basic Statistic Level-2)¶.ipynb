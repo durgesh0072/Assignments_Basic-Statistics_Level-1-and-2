{
 "cells": [
  {
   "cell_type": "code",
   "execution_count": 1,
   "metadata": {
    "ExecuteTime": {
     "end_time": "2021-06-01T18:35:42.114493Z",
     "start_time": "2021-06-01T18:35:40.754415Z"
    }
   },
   "outputs": [],
   "source": [
    "import numpy as np\n",
    "from scipy import stats\n",
    "from scipy.stats import norm"
   ]
  },
  {
   "cell_type": "code",
   "execution_count": 2,
   "metadata": {
    "ExecuteTime": {
     "end_time": "2021-06-01T18:35:51.091006Z",
     "start_time": "2021-06-01T18:35:51.076005Z"
    }
   },
   "outputs": [],
   "source": [
    "# n=100, Pop Mean=50, Pop SD=40 As no. of samples is more than 30, we can consider it normal distribution\n",
    "# For No investigation P(45<X<55)\n",
    "# For Investigation 1-P(45<X<55)\n"
   ]
  },
  {
   "cell_type": "code",
   "execution_count": 3,
   "metadata": {
    "ExecuteTime": {
     "end_time": "2021-06-01T18:35:53.967171Z",
     "start_time": "2021-06-01T18:35:53.912167Z"
    }
   },
   "outputs": [
    {
     "data": {
      "text/plain": [
       "-1.25"
      ]
     },
     "execution_count": 3,
     "metadata": {},
     "output_type": "execute_result"
    }
   ],
   "source": [
    "# find z-scores at x=45; z=(s_mean-P_mean)/(p_SD/sqrt(n))\n",
    "z=(45-50)/(40/100**0.5)\n",
    "z"
   ]
  },
  {
   "cell_type": "code",
   "execution_count": 4,
   "metadata": {
    "ExecuteTime": {
     "end_time": "2021-06-01T18:35:56.577320Z",
     "start_time": "2021-06-01T18:35:56.555319Z"
    }
   },
   "outputs": [
    {
     "data": {
      "text/plain": [
       "1.25"
      ]
     },
     "execution_count": 4,
     "metadata": {},
     "output_type": "execute_result"
    }
   ],
   "source": [
    "# find z-scores at x=55; z=(s_mean-P_mean)/(p_SD/sqrt(n))\n",
    "z=(55-50)/(40/100**0.5)\n",
    "z"
   ]
  },
  {
   "cell_type": "code",
   "execution_count": 5,
   "metadata": {
    "ExecuteTime": {
     "end_time": "2021-06-01T18:36:02.052633Z",
     "start_time": "2021-06-01T18:36:02.035632Z"
    }
   },
   "outputs": [
    {
     "data": {
      "text/plain": [
       "0.7887004526662893"
      ]
     },
     "execution_count": 5,
     "metadata": {},
     "output_type": "execute_result"
    }
   ],
   "source": [
    "# For No investigation P(45<X<55) using z_scores = P(X<50)-P(X<45)\n",
    "stats.norm.cdf(1.25)-stats.norm.cdf(-1.25)"
   ]
  },
  {
   "cell_type": "code",
   "execution_count": 6,
   "metadata": {
    "ExecuteTime": {
     "end_time": "2021-06-01T18:36:04.130752Z",
     "start_time": "2021-06-01T18:36:04.098750Z"
    }
   },
   "outputs": [
    {
     "data": {
      "text/plain": [
       "(45.00000495667348, 54.99999504332652)"
      ]
     },
     "execution_count": 6,
     "metadata": {},
     "output_type": "execute_result"
    }
   ],
   "source": [
    "stats.norm.interval(0.7887,loc=50,scale=40/(100**0.5))"
   ]
  },
  {
   "cell_type": "code",
   "execution_count": 7,
   "metadata": {
    "ExecuteTime": {
     "end_time": "2021-06-01T18:36:11.287161Z",
     "start_time": "2021-06-01T18:36:11.262160Z"
    }
   },
   "outputs": [
    {
     "data": {
      "text/plain": [
       "0.21130000000000004"
      ]
     },
     "execution_count": 7,
     "metadata": {},
     "output_type": "execute_result"
    }
   ],
   "source": [
    "# For Investigation 1-P(45<X<55)\n",
    "1-0.7887"
   ]
  }
 ],
 "metadata": {
  "kernelspec": {
   "display_name": "Python 3",
   "language": "python",
   "name": "python3"
  },
  "language_info": {
   "codemirror_mode": {
    "name": "ipython",
    "version": 3
   },
   "file_extension": ".py",
   "mimetype": "text/x-python",
   "name": "python",
   "nbconvert_exporter": "python",
   "pygments_lexer": "ipython3",
   "version": "3.8.5"
  }
 },
 "nbformat": 4,
 "nbformat_minor": 4
}
